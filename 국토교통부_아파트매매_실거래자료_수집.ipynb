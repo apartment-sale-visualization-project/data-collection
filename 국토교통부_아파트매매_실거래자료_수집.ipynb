{
 "cells": [
  {
   "cell_type": "markdown",
   "id": "e2c55684",
   "metadata": {},
   "source": [
    "# 서울시 아파트매매 실거래 자료(2020-2022)\n",
    "\n",
    "https://www.data.go.kr/tcs/dss/selectApiDataDetailView.do?publicDataPk=15058747"
   ]
  },
  {
   "cell_type": "markdown",
   "id": "112a5d8d",
   "metadata": {},
   "source": [
    "### 서울시 자치구 분류"
   ]
  },
  {
   "cell_type": "code",
   "execution_count": 1,
   "id": "2269e4dd",
   "metadata": {},
   "outputs": [],
   "source": [
    "district_code = {}\n",
    "\n",
    "f = open(\"C:\\\\Users\\\\82107\\\\Downloads\\\\법정동코드 전체자료.txt\", 'r')\n",
    "lines = f.readlines()\n",
    "\n",
    "for line in lines:\n",
    "    if line.split()[1] != '서울특별시': continue\n",
    "        \n",
    "    if line.split()[2] == '존재': continue\n",
    "    \n",
    "    if line.split()[0][0:5] not in district_code:\n",
    "        district_code[line.split()[0][0:5]] = line.split()[1] + ' ' + line.split()[2]\n",
    "            \n",
    "f.close()"
   ]
  },
  {
   "cell_type": "code",
   "execution_count": 2,
   "id": "a64d027d",
   "metadata": {},
   "outputs": [
    {
     "name": "stdout",
     "output_type": "stream",
     "text": [
      "{'11110': '서울특별시 종로구', '11140': '서울특별시 중구', '11170': '서울특별시 용산구', '11200': '서울특별시 성동구', '11215': '서울특별시 광진구', '11230': '서울특별시 동대문구', '11260': '서울특별시 중랑구', '11290': '서울특별시 성북구', '11305': '서울특별시 강북구', '11320': '서울특별시 도봉구', '11350': '서울특별시 노원구', '11380': '서울특별시 은평구', '11410': '서울특별시 서대문구', '11440': '서울특별시 마포구', '11470': '서울특별시 양천구', '11500': '서울특별시 강서구', '11530': '서울특별시 구로구', '11545': '서울특별시 금천구', '11560': '서울특별시 영등포구', '11590': '서울특별시 동작구', '11620': '서울특별시 관악구', '11650': '서울특별시 서초구', '11680': '서울특별시 강남구', '11710': '서울특별시 송파구', '11740': '서울특별시 강동구'}\n"
     ]
    }
   ],
   "source": [
    "print(district_code)"
   ]
  },
  {
   "cell_type": "markdown",
   "id": "2c8afcb4",
   "metadata": {},
   "source": [
    "### 호출할 날짜 생성"
   ]
  },
  {
   "cell_type": "code",
   "execution_count": 3,
   "id": "51ab0602",
   "metadata": {},
   "outputs": [],
   "source": [
    "base_date = []\n",
    "\n",
    "for year in range(2020, 2023):\n",
    "    for month in range(1, 13):\n",
    "        month = '0' + str(month) if month < 10 else str(month)\n",
    "        base_date.append(str(year) + month)"
   ]
  },
  {
   "cell_type": "code",
   "execution_count": 4,
   "id": "1b670b03",
   "metadata": {
    "scrolled": true
   },
   "outputs": [
    {
     "name": "stdout",
     "output_type": "stream",
     "text": [
      "['202001', '202002', '202003', '202004', '202005', '202006', '202007', '202008', '202009', '202010', '202011', '202012', '202101', '202102', '202103', '202104', '202105', '202106', '202107', '202108', '202109', '202110', '202111', '202112', '202201', '202202', '202203', '202204', '202205', '202206', '202207', '202208', '202209', '202210', '202211', '202212']\n"
     ]
    }
   ],
   "source": [
    "print(base_date)"
   ]
  },
  {
   "cell_type": "markdown",
   "id": "57371f63",
   "metadata": {},
   "source": [
    "### api 호출(월별 데이터 csv 파일에 저장)"
   ]
  },
  {
   "cell_type": "code",
   "execution_count": 5,
   "id": "f1c3de52",
   "metadata": {},
   "outputs": [],
   "source": [
    "import xml.etree.ElementTree as ET\n",
    "\n",
    "def get_items(response):\n",
    "    root = ET.fromstring(response.content)\n",
    "    item_list = []\n",
    "    for child in root.find('body').find('items'):\n",
    "        elements = child.findall('*')\n",
    "        data = {}\n",
    "        for element in elements:\n",
    "            tag = element.tag.strip()\n",
    "            text = element.text.strip()\n",
    "            data[tag] = text\n",
    "        item_list.append(data)  \n",
    "    return item_list"
   ]
  },
  {
   "cell_type": "code",
   "execution_count": 6,
   "id": "72bdfdd1",
   "metadata": {},
   "outputs": [],
   "source": [
    "import requests\n",
    "import datetime\n",
    "import pandas as pd\n",
    "\n",
    "url = 'http://openapi.molit.go.kr:8081/OpenAPI_ToolInstallPackage/service/rest/RTMSOBJSvc/getRTMSDataSvcAptTrade?'\n",
    "service_key = \"\"\n",
    "items_df = pd.DataFrame()\n",
    "\n",
    "for date in base_date:\n",
    "    items_list = []\n",
    "    for code in district_code:\n",
    "        payload = \"LAWD_CD=\" + code + \"&\" + \\\n",
    "              \"DEAL_YMD=\" + date + \"&\" + \\\n",
    "              \"serviceKey=\" + service_key + \"&\" \n",
    "        \n",
    "        res = requests.get(url + payload)\n",
    "        item_list = get_items(res)\n",
    "        items_list.extend(item_list)\n",
    "        \n",
    "    items_df = pd.DataFrame(items_list)\n",
    "    items_df.to_csv('apartment_sale_'+ date + '.csv',index=False,encoding=\"utf-8-sig\")"
   ]
  },
  {
   "cell_type": "markdown",
   "id": "0a652c48",
   "metadata": {},
   "source": [
    "### 모든 데이터 통합(2020-2022)"
   ]
  },
  {
   "cell_type": "code",
   "execution_count": 7,
   "id": "364b86ab",
   "metadata": {},
   "outputs": [],
   "source": [
    "import glob\n",
    "\n",
    "file_paths = glob.glob(\"*.csv\")\n",
    "merged_df = pd.DataFrame()\n",
    "\n",
    "for file_path in file_paths:\n",
    "    df = pd.read_csv(file_path)\n",
    "    merged_df = merged_df.append(df, ignore_index=True)\n",
    "\n",
    "merged_df.to_csv('apartment_sale_info.csv',index=False,encoding=\"utf-8-sig\")"
   ]
  }
 ],
 "metadata": {
  "kernelspec": {
   "display_name": "Python 3",
   "language": "python",
   "name": "python3"
  },
  "language_info": {
   "codemirror_mode": {
    "name": "ipython",
    "version": 3
   },
   "file_extension": ".py",
   "mimetype": "text/x-python",
   "name": "python",
   "nbconvert_exporter": "python",
   "pygments_lexer": "ipython3",
   "version": "3.8.8"
  }
 },
 "nbformat": 4,
 "nbformat_minor": 5
}
